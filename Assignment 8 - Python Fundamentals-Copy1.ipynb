{
 "cells": [
  {
   "cell_type": "markdown",
   "id": "dcce8cb9",
   "metadata": {},
   "source": [
    "##### 1. Is the Python Standard Library included with PyInputPlus?"
   ]
  },
  {
   "cell_type": "markdown",
   "id": "4f7cf92b",
   "metadata": {},
   "source": [
    "##### Ans\n",
    "\n",
    "No, the Python Standard Library is not included with PyInputPlus. PyInputPlus is a third-party library that provides additional functionality beyond the Standard Library."
   ]
  },
  {
   "cell_type": "markdown",
   "id": "4b5711b2",
   "metadata": {},
   "source": [
    "##### 2. Why is PyInputPlus commonly imported with import pyinputplus as pypi?"
   ]
  },
  {
   "cell_type": "markdown",
   "id": "cc9b37c6",
   "metadata": {},
   "source": [
    "##### Ans\n",
    "\n",
    "Convenience and Convention: pyinputplus as pypi is a convenient alias to shorten the import name, making it easier to reference in code."
   ]
  },
  {
   "cell_type": "markdown",
   "id": "4eca16ce",
   "metadata": {},
   "source": [
    "#### 3. How do you distinguish between inputInt() and inputFloat()?"
   ]
  },
  {
   "cell_type": "markdown",
   "id": "d3635608",
   "metadata": {},
   "source": [
    "##### Ans"
   ]
  },
  {
   "cell_type": "markdown",
   "id": "9eb4df41",
   "metadata": {},
   "source": [
    "Data Type: inputInt() ensures the input is an integer, while inputFloat() ensures the input is a floating-point number."
   ]
  },
  {
   "cell_type": "markdown",
   "id": "1d81921b",
   "metadata": {},
   "source": [
    "##### 4. Using PyInputPlus, how do you ensure that the user enters a whole number between 0 and 99?"
   ]
  },
  {
   "cell_type": "markdown",
   "id": "63122ec7",
   "metadata": {},
   "source": [
    "##### Ans\n",
    "\n",
    "Validation with Range: Use pyinputplus.inputInt(min=0, max=99) to ensure the user enters a whole number between 0 and 99."
   ]
  },
  {
   "cell_type": "markdown",
   "id": "94574665",
   "metadata": {},
   "source": [
    "#### 5. What is transferred to the keyword arguments allowRegexes and blockRegexes?"
   ]
  },
  {
   "cell_type": "markdown",
   "id": "a29a9e5c",
   "metadata": {},
   "source": [
    "##### Ans"
   ]
  },
  {
   "cell_type": "markdown",
   "id": "8d9763af",
   "metadata": {},
   "source": [
    "Regular Expressions: allowRegexes and blockRegexes take lists of regular expressions (as strings) to define patterns that are explicitly allowed or blocked."
   ]
  },
  {
   "cell_type": "markdown",
   "id": "5b0b08b7",
   "metadata": {},
   "source": [
    "#### 6. If a blank input is entered three times, what does inputStr(limit=3) do?"
   ]
  },
  {
   "cell_type": "markdown",
   "id": "31254b62",
   "metadata": {},
   "source": [
    "##### Ans\n",
    "\n",
    "Exception Raised: inputStr(limit=3) raises a RetryLimitException after three blank inputs."
   ]
  },
  {
   "cell_type": "markdown",
   "id": "acf67094",
   "metadata": {},
   "source": [
    "#### 7. f blank input is entered three times, what does inputStr(limit=3, default=&#39;hello&#39;) do?"
   ]
  },
  {
   "cell_type": "markdown",
   "id": "46af484f",
   "metadata": {},
   "source": [
    "##### Ans\n",
    "\n",
    "Default Value Returned: inputStr(limit=3, default='hello') returns 'hello' after three blank inputs."
   ]
  },
  {
   "cell_type": "code",
   "execution_count": null,
   "id": "153835e1",
   "metadata": {},
   "outputs": [],
   "source": []
  }
 ],
 "metadata": {
  "kernelspec": {
   "display_name": "Python 3 (ipykernel)",
   "language": "python",
   "name": "python3"
  },
  "language_info": {
   "codemirror_mode": {
    "name": "ipython",
    "version": 3
   },
   "file_extension": ".py",
   "mimetype": "text/x-python",
   "name": "python",
   "nbconvert_exporter": "python",
   "pygments_lexer": "ipython3",
   "version": "3.11.5"
  }
 },
 "nbformat": 4,
 "nbformat_minor": 5
}
