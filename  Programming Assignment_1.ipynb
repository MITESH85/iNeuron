{
 "cells": [
  {
   "cell_type": "markdown",
   "id": "81e9195e",
   "metadata": {},
   "source": [
    "##### Write a Python program to print &quot;Hello Python&quot;?"
   ]
  },
  {
   "cell_type": "code",
   "execution_count": 1,
   "id": "39b4d7f2",
   "metadata": {},
   "outputs": [
    {
     "name": "stdout",
     "output_type": "stream",
     "text": [
      "Hello Python\n"
     ]
    }
   ],
   "source": [
    "print(\"Hello Python\")"
   ]
  },
  {
   "cell_type": "markdown",
   "id": "26b18fe5",
   "metadata": {},
   "source": [
    "##### Write a Python program to do arithmetical operations addition and division.?"
   ]
  },
  {
   "cell_type": "code",
   "execution_count": 2,
   "id": "e4fa3bc1",
   "metadata": {},
   "outputs": [
    {
     "name": "stdout",
     "output_type": "stream",
     "text": [
      "Addition: 15\n",
      "Division: 2.0\n"
     ]
    }
   ],
   "source": [
    "num1 = 10\n",
    "num2 = 5\n",
    "addition = num1 + num2\n",
    "print(\"Addition:\", addition)\n",
    "division = num1 / num2\n",
    "print(\"Division:\", division)"
   ]
  },
  {
   "cell_type": "markdown",
   "id": "c7e2e81c",
   "metadata": {},
   "source": [
    "##### Write a Python program to find the area of a triangle?"
   ]
  },
  {
   "cell_type": "code",
   "execution_count": 3,
   "id": "4e817300",
   "metadata": {},
   "outputs": [
    {
     "name": "stdout",
     "output_type": "stream",
     "text": [
      "Enter the base of the triangle: 10\n",
      "Enter the height of the triangle: 10\n",
      "Area of the triangle: 50.0\n"
     ]
    }
   ],
   "source": [
    "base = float(input(\"Enter the base of the triangle: \"))\n",
    "height = float(input(\"Enter the height of the triangle: \"))\n",
    "area = 0.5 * base * height\n",
    "print(\"Area of the triangle:\", area)"
   ]
  },
  {
   "cell_type": "markdown",
   "id": "6f400d01",
   "metadata": {},
   "source": [
    "##### Write a Python program to swap two variables?"
   ]
  },
  {
   "cell_type": "code",
   "execution_count": 4,
   "id": "cd956f06",
   "metadata": {},
   "outputs": [
    {
     "name": "stdout",
     "output_type": "stream",
     "text": [
      "Before swapping: x = 5 , y = 10\n",
      "After swapping: x = 10 , y = 5\n"
     ]
    }
   ],
   "source": [
    "x = 5\n",
    "y = 10\n",
    "print(\"Before swapping: x =\", x, \", y =\", y)\n",
    "x, y = y, x\n",
    "print(\"After swapping: x =\", x, \", y =\", y)"
   ]
  },
  {
   "cell_type": "markdown",
   "id": "8d416bfa",
   "metadata": {},
   "source": [
    "##### Write a Python program to generate a random number?"
   ]
  },
  {
   "cell_type": "code",
   "execution_count": 5,
   "id": "6412fdd3",
   "metadata": {},
   "outputs": [
    {
     "name": "stdout",
     "output_type": "stream",
     "text": [
      "Random number: 33\n"
     ]
    }
   ],
   "source": [
    "import random\n",
    "random_number = random.randint(1, 100)\n",
    "print(\"Random number:\", random_number)"
   ]
  },
  {
   "cell_type": "code",
   "execution_count": null,
   "id": "87b317f5",
   "metadata": {},
   "outputs": [],
   "source": []
  }
 ],
 "metadata": {
  "kernelspec": {
   "display_name": "Python 3 (ipykernel)",
   "language": "python",
   "name": "python3"
  },
  "language_info": {
   "codemirror_mode": {
    "name": "ipython",
    "version": 3
   },
   "file_extension": ".py",
   "mimetype": "text/x-python",
   "name": "python",
   "nbconvert_exporter": "python",
   "pygments_lexer": "ipython3",
   "version": "3.11.5"
  }
 },
 "nbformat": 4,
 "nbformat_minor": 5
}
