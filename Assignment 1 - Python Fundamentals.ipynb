{
 "cells": [
  {
   "cell_type": "markdown",
   "id": "dcce8cb9",
   "metadata": {},
   "source": [
    "##### 1. In the below elements which of them are values or an expression?"
   ]
  },
  {
   "cell_type": "markdown",
   "id": "4f7cf92b",
   "metadata": {},
   "source": [
    "##### Ans\n",
    "\n",
    "\"  * 'hello', -87.8, -, /, +, 6 \""
   ]
  },
  {
   "cell_type": "markdown",
   "id": "4b5711b2",
   "metadata": {},
   "source": [
    "##### 2. What is the difference between string and variable?"
   ]
  },
  {
   "cell_type": "markdown",
   "id": "cc9b37c6",
   "metadata": {},
   "source": [
    "##### Ans\n",
    "\n",
    "String: A sequence of characters (like \"hello\") used to represent text. It's typically enclosed in quotes.\n",
    "\n",
    "Variable: A symbolic name associated with a value (like x in x = 5), which can be of any data type, including strings."
   ]
  },
  {
   "cell_type": "markdown",
   "id": "1d81921b",
   "metadata": {},
   "source": [
    "##### 3. Describe three different data types."
   ]
  },
  {
   "cell_type": "markdown",
   "id": "f5e6d30b",
   "metadata": {},
   "source": [
    "##### Ans\n",
    "\n",
    "Integer: Represents whole numbers without decimals (e.g., -5, 0, 42).\n",
    "\n",
    "String: A sequence of characters used to store text (e.g., \"hello\", \"123\").\n",
    "\n",
    "Boolean: Represents truth values with only two possible values: True or False."
   ]
  },
  {
   "cell_type": "markdown",
   "id": "94574665",
   "metadata": {},
   "source": [
    "#### 4. What is an expression made up of? What do all expressions do?"
   ]
  },
  {
   "cell_type": "markdown",
   "id": "d187e0fd",
   "metadata": {},
   "source": [
    "##### Ans\n",
    "\n",
    "An expression is made up of variables, constants, operators, and functions. All expressions evaluate to produce a value."
   ]
  },
  {
   "cell_type": "markdown",
   "id": "5b0b08b7",
   "metadata": {},
   "source": [
    "#### 5. What is the difference between an expression and a statement?"
   ]
  },
  {
   "cell_type": "markdown",
   "id": "1946b8f7",
   "metadata": {},
   "source": [
    "##### Ans\n",
    "\n",
    "Expressions are fragments of code that produce a value when evaluated. Examples include 2 + 2, \"hello\", or x * y.\n",
    "\n",
    "Statements perform an action and often do not produce a value. They can be used to assign values, control flow, or manage the structure of code. Examples include spam = 10, if, for, and while loops."
   ]
  },
  {
   "cell_type": "markdown",
   "id": "7e398aa3",
   "metadata": {},
   "source": [
    "#### 6. After running the following code, what does the variable bacon contain?\n",
    "\n",
    "bacon = 22\n",
    "\n",
    "bacon + 1"
   ]
  },
  {
   "cell_type": "markdown",
   "id": "103c503e",
   "metadata": {},
   "source": [
    "##### Ans \n",
    "\n",
    "22"
   ]
  },
  {
   "cell_type": "markdown",
   "id": "6fc50464",
   "metadata": {},
   "source": [
    "#### 7. What should the values of the following two terms be?\n",
    "'spam' + 'spamspam'\n",
    "\n",
    "'spam' * 3"
   ]
  },
  {
   "cell_type": "markdown",
   "id": "d4f1609b",
   "metadata": {},
   "source": [
    "##### Ans\n",
    "\n",
    "'spamspamspam'\n",
    "\n",
    "'spamspamspam'"
   ]
  },
  {
   "cell_type": "markdown",
   "id": "08b9e9aa",
   "metadata": {},
   "source": [
    "#### 8. Why is eggs a valid variable name while 100 is invalid?"
   ]
  },
  {
   "cell_type": "markdown",
   "id": "f651600f",
   "metadata": {},
   "source": [
    "##### Ans\n",
    "variable names can't start with a number. They can contain letters, numbers, and underscores, but must start with a letter or underscore."
   ]
  },
  {
   "cell_type": "markdown",
   "id": "aaec23dc",
   "metadata": {},
   "source": [
    "#### 9. What three functions can be used to get the integer, floating-point number, or string version of a value?"
   ]
  },
  {
   "cell_type": "markdown",
   "id": "a6950ffe",
   "metadata": {},
   "source": [
    "##### Ans \n",
    "\n",
    "int() - Converts a value to an integer.\n",
    "\n",
    "float() - Converts a value to a floating-point number.\n",
    "\n",
    "str() - Converts a value to a string."
   ]
  },
  {
   "cell_type": "markdown",
   "id": "5044fe8a",
   "metadata": {},
   "source": [
    "#### 10. Why does this expression cause an error? How can you fix it?\n",
    "\n",
    "'I have eaten' + 99 + 'burritos.'"
   ]
  },
  {
   "cell_type": "markdown",
   "id": "2c54c58d",
   "metadata": {},
   "source": [
    "##### Ans\n",
    "\n",
    "The expression 'I have eaten' + 99 + 'burritos.' causes an error because we're trying to concatenate a string ('I have eaten') with an integer (99)\n",
    "\n",
    "'I have eaten' + str(99) + 'burritos.'"
   ]
  },
  {
   "cell_type": "code",
   "execution_count": null,
   "id": "76d4ab8a",
   "metadata": {},
   "outputs": [],
   "source": []
  }
 ],
 "metadata": {
  "kernelspec": {
   "display_name": "Python 3 (ipykernel)",
   "language": "python",
   "name": "python3"
  },
  "language_info": {
   "codemirror_mode": {
    "name": "ipython",
    "version": 3
   },
   "file_extension": ".py",
   "mimetype": "text/x-python",
   "name": "python",
   "nbconvert_exporter": "python",
   "pygments_lexer": "ipython3",
   "version": "3.11.5"
  }
 },
 "nbformat": 4,
 "nbformat_minor": 5
}
