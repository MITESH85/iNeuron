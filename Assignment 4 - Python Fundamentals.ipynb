{
 "cells": [
  {
   "cell_type": "markdown",
   "id": "dcce8cb9",
   "metadata": {},
   "source": [
    "##### 1.What exactly is []?"
   ]
  },
  {
   "cell_type": "markdown",
   "id": "4f7cf92b",
   "metadata": {},
   "source": [
    "##### Ans\n",
    "\n",
    "List"
   ]
  },
  {
   "cell_type": "markdown",
   "id": "4b5711b2",
   "metadata": {},
   "source": [
    "##### 2. In a list of values stored in a variable called spam, how would you assign the value &#39;hello&#39; as the third value? \n",
    "##### (Assume [2, 4, 6, 8, 10] are in spam.)"
   ]
  },
  {
   "cell_type": "markdown",
   "id": "cc9b37c6",
   "metadata": {},
   "source": [
    "##### Ans"
   ]
  },
  {
   "cell_type": "code",
   "execution_count": 3,
   "id": "017f555c",
   "metadata": {},
   "outputs": [
    {
     "data": {
      "text/plain": [
       "[2, 4, 'hello', 8, 10]"
      ]
     },
     "execution_count": 3,
     "metadata": {},
     "output_type": "execute_result"
    }
   ],
   "source": [
    "spam = [2, 4, 6, 8, 10]\n",
    "spam[2] = 'hello'\n",
    "spam"
   ]
  },
  {
   "cell_type": "markdown",
   "id": "4eca16ce",
   "metadata": {},
   "source": [
    "#### 3. What is the value of spam[int(int(&#39;3&#39; * 2) / 11)]?"
   ]
  },
  {
   "cell_type": "markdown",
   "id": "d3635608",
   "metadata": {},
   "source": [
    "##### Ans - 8"
   ]
  },
  {
   "cell_type": "markdown",
   "id": "1d81921b",
   "metadata": {},
   "source": [
    "##### 4. What is the value of spam[-1]?"
   ]
  },
  {
   "cell_type": "markdown",
   "id": "f5e6d30b",
   "metadata": {},
   "source": [
    "##### Ans\n",
    "\n",
    "10"
   ]
  },
  {
   "cell_type": "markdown",
   "id": "94574665",
   "metadata": {},
   "source": [
    "#### 5. What is the value of spam[:2]?"
   ]
  },
  {
   "cell_type": "markdown",
   "id": "d187e0fd",
   "metadata": {},
   "source": [
    "##### Ans\n",
    "\n",
    "[2,4]"
   ]
  },
  {
   "cell_type": "markdown",
   "id": "7b3b7b9a",
   "metadata": {},
   "source": [
    "### Let&#39;s pretend bacon has the list [3.14, 'cat' 11, 'cat' True] for the next three questions."
   ]
  },
  {
   "cell_type": "markdown",
   "id": "5b0b08b7",
   "metadata": {},
   "source": [
    "#### 6. What is the value of bacon.index(&#39;cat&#39;)?"
   ]
  },
  {
   "cell_type": "markdown",
   "id": "1946b8f7",
   "metadata": {},
   "source": [
    "##### Ans\n",
    "\n",
    "1"
   ]
  },
  {
   "cell_type": "markdown",
   "id": "7e398aa3",
   "metadata": {},
   "source": [
    "#### 7. How does bacon.append(99) change the look of the list value in bacon?"
   ]
  },
  {
   "cell_type": "markdown",
   "id": "103c503e",
   "metadata": {},
   "source": [
    "##### Ans \n",
    "\n",
    "[3.14, 'cat', 11, 'cat', True, 99]"
   ]
  },
  {
   "cell_type": "markdown",
   "id": "6fc50464",
   "metadata": {},
   "source": [
    "#### 8. How does bacon.remove(&#39;cat&#39;) change the look of the list in bacon?"
   ]
  },
  {
   "cell_type": "markdown",
   "id": "c69adc93",
   "metadata": {},
   "source": [
    "##### Ans\n",
    "\n",
    "[3.14, 11, 'cat', True, 99]"
   ]
  },
  {
   "cell_type": "markdown",
   "id": "08b9e9aa",
   "metadata": {},
   "source": [
    "#### 9. What are the list concatenation and list replication operators?"
   ]
  },
  {
   "cell_type": "markdown",
   "id": "f651600f",
   "metadata": {},
   "source": [
    "##### Ans\n",
    "List Concatenation Operator: The + operator is used to concatenate (join) two lists.\n",
    "\n",
    "List Replication Operator: The * operator is used to replicate (repeat) a list a specified number of times."
   ]
  },
  {
   "cell_type": "markdown",
   "id": "aaec23dc",
   "metadata": {},
   "source": [
    "#### 10. What is difference between the list methods append() and insert()?"
   ]
  },
  {
   "cell_type": "markdown",
   "id": "a6950ffe",
   "metadata": {},
   "source": [
    "##### Ans \n",
    "\n",
    "append(): Adds an element to the end of the list.\n",
    "\n",
    "insert(index, element): Adds an element at a specified position in the list."
   ]
  },
  {
   "cell_type": "markdown",
   "id": "5044fe8a",
   "metadata": {},
   "source": [
    "#### 11. What are the two methods for removing items from a list?"
   ]
  },
  {
   "cell_type": "markdown",
   "id": "2c54c58d",
   "metadata": {},
   "source": [
    "##### Ans\n",
    "\n",
    "remove(x): Removes the first occurrence of the item x.\n",
    "\n",
    "pop([i]): Removes and returns the item at index i (or the last item if i is not specified)."
   ]
  },
  {
   "cell_type": "markdown",
   "id": "a06701ab",
   "metadata": {},
   "source": [
    "#### 12. Describe how list values and string values are identical."
   ]
  },
  {
   "cell_type": "markdown",
   "id": "b416b010",
   "metadata": {},
   "source": [
    "##### Ans\n",
    "\n",
    "1 They store an ordered collection of items (characters for strings, elements for lists).\n",
    "\n",
    "2 We can access elements by their position using square brackets, e.g., str[0] or lst[0].\n",
    "\n",
    "3 We can extract sub-sequences using slice notation, e.g., str[1:3] or lst[1:3].\n",
    "\n",
    "4 We can loop through their items with a for loop."
   ]
  },
  {
   "cell_type": "markdown",
   "id": "0fa331e9",
   "metadata": {},
   "source": [
    "#### 13. What&#39;s the difference between tuples and lists?"
   ]
  },
  {
   "cell_type": "markdown",
   "id": "662fa313",
   "metadata": {},
   "source": [
    "##### Ans\n",
    "\n",
    "Lists are mutable, meaning you can change their contents (add, remove, or modify items).\n",
    "\n",
    "Tuples are immutable, meaning once they are created, their contents cannot be changed. "
   ]
  },
  {
   "cell_type": "markdown",
   "id": "12d318e1",
   "metadata": {},
   "source": [
    "#### 14. How do you type a tuple value that only contains the integer 42?"
   ]
  },
  {
   "cell_type": "markdown",
   "id": "90dcfdb1",
   "metadata": {},
   "source": [
    "##### Ans\n",
    "\n",
    "(18,)"
   ]
  },
  {
   "cell_type": "markdown",
   "id": "ef1ccaf8",
   "metadata": {},
   "source": [
    "#### 15. How do you get a list value&#39;s tuple form? How do you get a tuple value&#39;s list form?"
   ]
  },
  {
   "cell_type": "code",
   "execution_count": 12,
   "id": "26e81405",
   "metadata": {},
   "outputs": [],
   "source": [
    "# list value's tuple form\n",
    "my_list = [1, 2, 3]\n",
    "my_tuple = tuple(my_list)\n",
    "\n",
    "#tuple value's list form\n",
    "my_tuple = (1, 2, 3)\n",
    "my_list = list(my_tuple)"
   ]
  },
  {
   "cell_type": "markdown",
   "id": "73cd9277",
   "metadata": {},
   "source": [
    "#### 16. Variables that &quot;contain&quot; list values are not necessarily lists themselves. Instead, what do they contain?"
   ]
  },
  {
   "cell_type": "markdown",
   "id": "5a8173db",
   "metadata": {},
   "source": [
    "##### Ans\n",
    "\n",
    "Variables that \"contain\" list values actually hold references to list objects, not the lists themselves."
   ]
  },
  {
   "cell_type": "markdown",
   "id": "50cbd947",
   "metadata": {},
   "source": [
    "#### 17. How do you distinguish between copy.copy() and copy.deepcopy()?"
   ]
  },
  {
   "cell_type": "markdown",
   "id": "fcccae11",
   "metadata": {},
   "source": [
    "##### Ans\n",
    "\n",
    "copy.copy() creates a shallow copy of an object. It duplicates the object itself and references to its nested objects. Changes to nested objects affect both copies.\n",
    "\n",
    "copy.deepcopy() creates a deep copy of an object. It duplicates the object and recursively copies all nested objects. Changes to nested objects in the original do not affect the deep copy, and vice versa."
   ]
  },
  {
   "cell_type": "code",
   "execution_count": null,
   "id": "6d192e1a",
   "metadata": {},
   "outputs": [],
   "source": []
  }
 ],
 "metadata": {
  "kernelspec": {
   "display_name": "Python 3 (ipykernel)",
   "language": "python",
   "name": "python3"
  },
  "language_info": {
   "codemirror_mode": {
    "name": "ipython",
    "version": 3
   },
   "file_extension": ".py",
   "mimetype": "text/x-python",
   "name": "python",
   "nbconvert_exporter": "python",
   "pygments_lexer": "ipython3",
   "version": "3.11.5"
  }
 },
 "nbformat": 4,
 "nbformat_minor": 5
}
