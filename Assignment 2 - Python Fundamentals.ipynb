{
 "cells": [
  {
   "cell_type": "markdown",
   "id": "dcce8cb9",
   "metadata": {},
   "source": [
    "##### 1.What are the two values of the Boolean data type? How do you write them?"
   ]
  },
  {
   "cell_type": "markdown",
   "id": "4f7cf92b",
   "metadata": {},
   "source": [
    "##### Ans\n",
    "\n",
    "The two values of the Boolean data type are true and false."
   ]
  },
  {
   "cell_type": "markdown",
   "id": "4b5711b2",
   "metadata": {},
   "source": [
    "##### 2. What are the three different types of Boolean operators?"
   ]
  },
  {
   "cell_type": "markdown",
   "id": "cc9b37c6",
   "metadata": {},
   "source": [
    "##### Ans\n",
    "\n",
    "AND, OR, NOT"
   ]
  },
  {
   "cell_type": "markdown",
   "id": "4eca16ce",
   "metadata": {},
   "source": [
    "#### 3. Make a list of each Boolean operator&#39;s truth tables (i.e. every possible combination of Boolean values for the operator and what it evaluate )."
   ]
  },
  {
   "cell_type": "markdown",
   "id": "d3635608",
   "metadata": {},
   "source": [
    "##### Ans\n",
    "\n",
    "###### AND Operator:\n",
    "\n",
    "True and True = True\n",
    "\n",
    "True and False = False\n",
    "\n",
    "False and True = False\n",
    "\n",
    "False and False = False\n",
    "\n",
    "\n",
    "######  OR Operator:\n",
    "\n",
    "True or True = True\n",
    "\n",
    "True or False = True\n",
    "\n",
    "False or True = True\n",
    "\n",
    "False or False = False\n",
    "\n",
    "\n",
    "###### NOT Operator:\n",
    "\n",
    "not True = False\n",
    "\n",
    "not False = True"
   ]
  },
  {
   "cell_type": "markdown",
   "id": "1d81921b",
   "metadata": {},
   "source": [
    "##### 4. What are the values of the following expressions?\n",
    "(5 > 4) and (3 == 5)\n",
    "\n",
    "not (5 > 4)\n",
    "\n",
    "(5 > 4) or (3 == 5)\n",
    "\n",
    "not ((5 > 4) or (3 == 5))\n",
    "\n",
    "(True and True) and (True == False)\n",
    "\n",
    "(not False) or (not True)"
   ]
  },
  {
   "cell_type": "markdown",
   "id": "f5e6d30b",
   "metadata": {},
   "source": [
    "##### Ans\n",
    "\n",
    "(5 > 4) and (3 == 5) = 0\n",
    "\n",
    "not (5 > 4) = 0\n",
    "\n",
    "(5 > 4) or (3 == 5) = 1\n",
    "\n",
    "not ((5 > 4) or (3 == 5)) = 0\n",
    "\n",
    "(True and True) and (True == False) = 0\n",
    "\n",
    "(not False) or (not True) = 1"
   ]
  },
  {
   "cell_type": "markdown",
   "id": "94574665",
   "metadata": {},
   "source": [
    "#### 5. What are the six comparison operators?"
   ]
  },
  {
   "cell_type": "markdown",
   "id": "d187e0fd",
   "metadata": {},
   "source": [
    "##### Ans\n",
    "\n",
    "'== (equal to)'\n",
    "\n",
    "'!= (not equal to)'\n",
    "\n",
    "'> (greater than)'\n",
    "\n",
    "'< (less than)'\n",
    "\n",
    "'>= (greater than or equal to)'\n",
    "\n",
    "'<= (less than or equal to)'"
   ]
  },
  {
   "cell_type": "markdown",
   "id": "5b0b08b7",
   "metadata": {},
   "source": [
    "#### 6. How do you tell the difference between the equal to and assignment operators?Describe a condition and when you would use one."
   ]
  },
  {
   "cell_type": "markdown",
   "id": "1946b8f7",
   "metadata": {},
   "source": [
    "##### Ans\n",
    "\n",
    "the assignment operator = assigns a value to a variable, while the equality operator == checks if two values are equal."
   ]
  },
  {
   "cell_type": "markdown",
   "id": "7e398aa3",
   "metadata": {},
   "source": [
    "#### 7. Identify the three blocks in this code:\n",
    "\n",
    "spam = 0\n",
    "\n",
    "if spam == 10:\n",
    "\n",
    "print('eggs')\n",
    "\n",
    "if spam > 5:\n",
    "\n",
    "print('bacon')\n",
    "\n",
    "else:\n",
    "\n",
    "print('ham')\n",
    "\n",
    "print('spam')\n",
    "\n",
    "print('spam';)"
   ]
  },
  {
   "cell_type": "markdown",
   "id": "103c503e",
   "metadata": {},
   "source": [
    "##### Ans \n",
    "###### Ist Bolck\n",
    "if spam == 10:\n",
    "\n",
    "    print('eggs')\n",
    "    \n",
    "###### 2nd Bolck\n",
    "if spam > 5:\n",
    "\n",
    "    print('bacon')\n",
    "    \n",
    "else:\n",
    "\n",
    "    print('ham')\n",
    "    \n",
    "###### 3rd Bolck\n",
    "print('spam')\n",
    "\n",
    "print('spam')"
   ]
  },
  {
   "cell_type": "markdown",
   "id": "6fc50464",
   "metadata": {},
   "source": [
    "#### 8. Write code that prints Hello if 1 is stored in spam, prints Howdy if 2 is stored in spam, and prints Greetings! if anything else is stored in spam."
   ]
  },
  {
   "cell_type": "code",
   "execution_count": 2,
   "id": "f1aa93a6",
   "metadata": {},
   "outputs": [
    {
     "name": "stdout",
     "output_type": "stream",
     "text": [
      "Enter Integer Value: 2\n",
      "Howdy\n"
     ]
    }
   ],
   "source": [
    "spam = int(input(\"Enter Integer Value: \" ))\n",
    "if spam == 1:\n",
    "    print(\"Hello\")\n",
    "elif spam == 2:\n",
    "    print(\"Howdy\")\n",
    "else:\n",
    "    print(\"Greetings!\")"
   ]
  },
  {
   "cell_type": "markdown",
   "id": "08b9e9aa",
   "metadata": {},
   "source": [
    "#### 9. If your programme is stuck in an endless loop, what keys you’ll press?"
   ]
  },
  {
   "cell_type": "markdown",
   "id": "f651600f",
   "metadata": {},
   "source": [
    "##### Ans\n",
    "To stop a program stuck in an endless loop, press Ctrl + C in the terminal"
   ]
  },
  {
   "cell_type": "markdown",
   "id": "aaec23dc",
   "metadata": {},
   "source": [
    "#### 10. How can you tell the difference between break and continue?"
   ]
  },
  {
   "cell_type": "markdown",
   "id": "a6950ffe",
   "metadata": {},
   "source": [
    "##### Ans \n",
    "\n",
    "break: Exits the loop entirely. It terminates the loop and resumes execution at the next statement after the loop.\n",
    "\n",
    "continue: Skips the rest of the current loop iteration and moves on to the next iteration."
   ]
  },
  {
   "cell_type": "markdown",
   "id": "5044fe8a",
   "metadata": {},
   "source": [
    "#### 11. In a for loop, what is the difference between range(10), range(0, 10), and range(0, 10, 1)?"
   ]
  },
  {
   "cell_type": "markdown",
   "id": "2c54c58d",
   "metadata": {},
   "source": [
    "##### Ans\n",
    "\n",
    "range(10): Generates numbers from 0 to 9 (default start is 0 and step is 1).\n",
    "\n",
    "range(0, 10): Also generates numbers from 0 to 9 (explicitly specifying start as 0 and end as 10).\n",
    "\n",
    "range(0, 10, 1): Again generates numbers from 0 to 9 (explicitly specifying start as 0, end as 10, and step as 1)."
   ]
  },
  {
   "cell_type": "markdown",
   "id": "a06701ab",
   "metadata": {},
   "source": [
    "#### 12. Write a short program that prints the numbers 1 to 10 using a for loop. Then write an equivalent program that prints the numbers 1 to 10 using a while loop."
   ]
  },
  {
   "cell_type": "code",
   "execution_count": 3,
   "id": "9f70ebe6",
   "metadata": {},
   "outputs": [
    {
     "name": "stdout",
     "output_type": "stream",
     "text": [
      "1  2  3  4  5  6  7  8  9  10  \n",
      "\n",
      "1  2  3  4  5  6  7  8  9  10  "
     ]
    }
   ],
   "source": [
    "# Using For Loop\n",
    "for i in range(1,11):\n",
    "    print(\"{} \".format(i), end= \" \")\n",
    "\n",
    "print(\"\\n\")\n",
    "\n",
    "# Using While Loop\n",
    "i = 1\n",
    "while(i<=10):\n",
    "    print(\"{} \".format(i), end= \" \")\n",
    "    i = i + 1"
   ]
  },
  {
   "cell_type": "markdown",
   "id": "0fa331e9",
   "metadata": {},
   "source": [
    "#### 13. If you had a function named bacon() inside a module named spam, how would you call it after importing spam?"
   ]
  },
  {
   "cell_type": "markdown",
   "id": "662fa313",
   "metadata": {},
   "source": [
    "##### Ans\n",
    "\n",
    "spam.bacon()"
   ]
  },
  {
   "cell_type": "code",
   "execution_count": null,
   "id": "9477fbc4",
   "metadata": {},
   "outputs": [],
   "source": []
  }
 ],
 "metadata": {
  "kernelspec": {
   "display_name": "Python 3 (ipykernel)",
   "language": "python",
   "name": "python3"
  },
  "language_info": {
   "codemirror_mode": {
    "name": "ipython",
    "version": 3
   },
   "file_extension": ".py",
   "mimetype": "text/x-python",
   "name": "python",
   "nbconvert_exporter": "python",
   "pygments_lexer": "ipython3",
   "version": "3.11.5"
  }
 },
 "nbformat": 4,
 "nbformat_minor": 5
}
