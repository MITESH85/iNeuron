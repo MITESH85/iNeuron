{
 "cells": [
  {
   "cell_type": "markdown",
   "id": "dcce8cb9",
   "metadata": {},
   "source": [
    "##### 1.Why are functions advantageous to have in your programs?"
   ]
  },
  {
   "cell_type": "markdown",
   "id": "4f7cf92b",
   "metadata": {},
   "source": [
    "##### Ans\n",
    "\n",
    "1. Functions allow you to write code once and reuse it multiple times without rewriting it.\n",
    "2. They help break down complex problems into simpler, manageable parts.\n",
    "3. Functions make code more organized and easier to read.\n",
    "4. Changes in functionality can be made in one place, improving maintainability."
   ]
  },
  {
   "cell_type": "markdown",
   "id": "4b5711b2",
   "metadata": {},
   "source": [
    "##### 2. When does the code in a function run: when it&#39;s specified or when it&#39;s called?"
   ]
  },
  {
   "cell_type": "markdown",
   "id": "cc9b37c6",
   "metadata": {},
   "source": [
    "##### Ans\n",
    "\n",
    "The code inside a function runs when the function is called, not when it’s defined."
   ]
  },
  {
   "cell_type": "markdown",
   "id": "4eca16ce",
   "metadata": {},
   "source": [
    "#### 3. What statement creates a function?"
   ]
  },
  {
   "cell_type": "markdown",
   "id": "d3635608",
   "metadata": {},
   "source": [
    "##### Ans\n",
    "\n",
    "def function_name(parameters):\n",
    "\n",
    "    # function body"
   ]
  },
  {
   "cell_type": "markdown",
   "id": "1d81921b",
   "metadata": {},
   "source": [
    "##### 4. What is the difference between a function and a function call?"
   ]
  },
  {
   "cell_type": "markdown",
   "id": "f5e6d30b",
   "metadata": {},
   "source": [
    "##### Ans\n",
    "\n",
    "Function: A block of code defined using the def keyword that performs a specific task.\n",
    "\n",
    "Function Call: The act of executing a function by using its name followed by parentheses, often with arguments."
   ]
  },
  {
   "cell_type": "markdown",
   "id": "94574665",
   "metadata": {},
   "source": [
    "#### 5. How many global scopes are there in a Python program? How many local scopes?"
   ]
  },
  {
   "cell_type": "markdown",
   "id": "d187e0fd",
   "metadata": {},
   "source": [
    "##### Ans\n",
    "\n",
    "Global Scopes: One.\n",
    "\n",
    "Local Scopes: Multiple"
   ]
  },
  {
   "cell_type": "markdown",
   "id": "5b0b08b7",
   "metadata": {},
   "source": [
    "#### 6. What happens to variables in a local scope when the function call returns?"
   ]
  },
  {
   "cell_type": "markdown",
   "id": "1946b8f7",
   "metadata": {},
   "source": [
    "##### Ans\n",
    "\n",
    "Variables in a local scope are destroyed when the function call returns. Their memory is freed, and they become inaccessible from outside the function."
   ]
  },
  {
   "cell_type": "markdown",
   "id": "7e398aa3",
   "metadata": {},
   "source": [
    "#### 7. What is the concept of a return value? Is it possible to have a return value in an expression"
   ]
  },
  {
   "cell_type": "markdown",
   "id": "103c503e",
   "metadata": {},
   "source": [
    "##### Ans \n",
    "\n",
    "A return value is the value that a function sends back to the caller when it completes its execution. In Python, functions use the return statement to specify the return value.\n",
    "\n",
    "def add(a, b):\n",
    "\n",
    "    return a + b\n",
    "\n",
    "result = add(3, 4) * 2"
   ]
  },
  {
   "cell_type": "markdown",
   "id": "6fc50464",
   "metadata": {},
   "source": [
    "#### 8. If a function does not have a return statement, what is the return value of a call to that function?"
   ]
  },
  {
   "cell_type": "markdown",
   "id": "c69adc93",
   "metadata": {},
   "source": [
    "##### Ans\n",
    "\n",
    "If a function in Python does not have a return statement, it returns None."
   ]
  },
  {
   "cell_type": "markdown",
   "id": "08b9e9aa",
   "metadata": {},
   "source": [
    "#### 9. How do you make a function variable refer to the global variable?"
   ]
  },
  {
   "cell_type": "markdown",
   "id": "f651600f",
   "metadata": {},
   "source": [
    "##### Ans\n",
    "The global keyword inside the function to refer to a global variable.\n",
    "\n",
    "x = 10\n",
    "\n",
    "def update_global():\n",
    "\n",
    "    global x\n",
    "    \n",
    "    x = 20\n",
    "\n",
    "update_global()\n",
    "print(x)"
   ]
  },
  {
   "cell_type": "markdown",
   "id": "aaec23dc",
   "metadata": {},
   "source": [
    "#### 10. What is the data type of None?"
   ]
  },
  {
   "cell_type": "markdown",
   "id": "a6950ffe",
   "metadata": {},
   "source": [
    "##### Ans \n",
    "\n",
    "The data type of None is NoneType."
   ]
  },
  {
   "cell_type": "markdown",
   "id": "5044fe8a",
   "metadata": {},
   "source": [
    "#### 11. What does the sentence import areallyourpetsnamederic do?"
   ]
  },
  {
   "cell_type": "markdown",
   "id": "2c54c58d",
   "metadata": {},
   "source": [
    "##### Ans\n",
    "\n",
    "The sentence import areallyourpetsnamederic attempts to import a module named areallyourpetsnamederic. If the module does not exist, Python will raise a ModuleNotFoundError."
   ]
  },
  {
   "cell_type": "markdown",
   "id": "a06701ab",
   "metadata": {},
   "source": [
    "#### 12. If you had a bacon() feature in a spam module, what would you call it after importing spam?"
   ]
  },
  {
   "cell_type": "markdown",
   "id": "b416b010",
   "metadata": {},
   "source": [
    "##### Ans\n",
    "\n",
    "spam.bacon()."
   ]
  },
  {
   "cell_type": "markdown",
   "id": "0fa331e9",
   "metadata": {},
   "source": [
    "#### 13. What can you do to save a programme from crashing if it encounters an error?"
   ]
  },
  {
   "cell_type": "markdown",
   "id": "662fa313",
   "metadata": {},
   "source": [
    "##### Ans\n",
    "\n",
    "To prevent a Python program from crashing when it encounters an error, you can use exception handling with a try-except block. "
   ]
  },
  {
   "cell_type": "markdown",
   "id": "12d318e1",
   "metadata": {},
   "source": [
    "#### 14. What is the purpose of the try clause? What is the purpose of the except clause?"
   ]
  },
  {
   "cell_type": "markdown",
   "id": "90dcfdb1",
   "metadata": {},
   "source": [
    "##### Ans\n",
    "\n",
    "try clause: Contains code that might raise an exception. Python attempts to execute this code.\n",
    "\n",
    "except clause: Defines how to handle exceptions if they occur in the try clause. This block is executed only if an exception is raised in the try block."
   ]
  },
  {
   "cell_type": "code",
   "execution_count": null,
   "id": "93270006",
   "metadata": {},
   "outputs": [],
   "source": []
  }
 ],
 "metadata": {
  "kernelspec": {
   "display_name": "Python 3 (ipykernel)",
   "language": "python",
   "name": "python3"
  },
  "language_info": {
   "codemirror_mode": {
    "name": "ipython",
    "version": 3
   },
   "file_extension": ".py",
   "mimetype": "text/x-python",
   "name": "python",
   "nbconvert_exporter": "python",
   "pygments_lexer": "ipython3",
   "version": "3.11.5"
  }
 },
 "nbformat": 4,
 "nbformat_minor": 5
}
