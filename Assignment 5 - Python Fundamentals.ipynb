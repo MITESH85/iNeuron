{
 "cells": [
  {
   "cell_type": "markdown",
   "id": "dcce8cb9",
   "metadata": {},
   "source": [
    "##### 1.What does an empty dictionary&#39;s code look like?"
   ]
  },
  {
   "cell_type": "markdown",
   "id": "4f7cf92b",
   "metadata": {},
   "source": [
    "##### Ans\n",
    "\n",
    "{}"
   ]
  },
  {
   "cell_type": "markdown",
   "id": "4b5711b2",
   "metadata": {},
   "source": [
    "##### 2. What is the value of a dictionary value with the key &#39;foo&#39; and the value 42?"
   ]
  },
  {
   "cell_type": "markdown",
   "id": "cc9b37c6",
   "metadata": {},
   "source": [
    "##### Ans"
   ]
  },
  {
   "cell_type": "code",
   "execution_count": 1,
   "id": "0b4d87f3",
   "metadata": {},
   "outputs": [
    {
     "data": {
      "text/plain": [
       "42"
      ]
     },
     "execution_count": 1,
     "metadata": {},
     "output_type": "execute_result"
    }
   ],
   "source": [
    "d = {'foo':42}\n",
    "d['foo']"
   ]
  },
  {
   "cell_type": "markdown",
   "id": "4eca16ce",
   "metadata": {},
   "source": [
    "#### 3. What happens if you try to access spam[&#39;foo&#39;] if spam is {&#39;bar&#39;: 100}?"
   ]
  },
  {
   "cell_type": "markdown",
   "id": "d3635608",
   "metadata": {},
   "source": [
    "##### Ans\n",
    "KeyError: 'foo'"
   ]
  },
  {
   "cell_type": "markdown",
   "id": "1d81921b",
   "metadata": {},
   "source": [
    "##### 4. If a dictionary is stored in spam, what is the difference between the expressions &#39;cat&#39; in spam and &#39;cat&#39; in spam.keys()?"
   ]
  },
  {
   "cell_type": "code",
   "execution_count": 7,
   "id": "ecda3a00",
   "metadata": {},
   "outputs": [],
   "source": [
    "spam = {'cat': 10, 'dog': 11}"
   ]
  },
  {
   "cell_type": "code",
   "execution_count": 8,
   "id": "3ebd3c59",
   "metadata": {},
   "outputs": [
    {
     "data": {
      "text/plain": [
       "10"
      ]
     },
     "execution_count": 8,
     "metadata": {},
     "output_type": "execute_result"
    }
   ],
   "source": [
    "spam['cat']"
   ]
  },
  {
   "cell_type": "code",
   "execution_count": 9,
   "id": "01601893",
   "metadata": {},
   "outputs": [
    {
     "ename": "TypeError",
     "evalue": "dict.keys() takes no arguments (1 given)",
     "output_type": "error",
     "traceback": [
      "\u001b[1;31m---------------------------------------------------------------------------\u001b[0m",
      "\u001b[1;31mTypeError\u001b[0m                                 Traceback (most recent call last)",
      "Cell \u001b[1;32mIn[9], line 1\u001b[0m\n\u001b[1;32m----> 1\u001b[0m spam\u001b[38;5;241m.\u001b[39mkeys(\u001b[38;5;124m'\u001b[39m\u001b[38;5;124mcat\u001b[39m\u001b[38;5;124m'\u001b[39m)\n",
      "\u001b[1;31mTypeError\u001b[0m: dict.keys() takes no arguments (1 given)"
     ]
    }
   ],
   "source": [
    "spam.keys('cat')"
   ]
  },
  {
   "cell_type": "markdown",
   "id": "94574665",
   "metadata": {},
   "source": [
    "#### 5. If a dictionary is stored in spam, what is the difference between the expressions &#39;cat&#39; in spam and &#39;cat&#39; in spam.values()?"
   ]
  },
  {
   "cell_type": "code",
   "execution_count": 10,
   "id": "839472dd",
   "metadata": {},
   "outputs": [
    {
     "data": {
      "text/plain": [
       "10"
      ]
     },
     "execution_count": 10,
     "metadata": {},
     "output_type": "execute_result"
    }
   ],
   "source": [
    "spam = {'cat': 10, 'dog': 11}\n",
    "spam['cat']"
   ]
  },
  {
   "cell_type": "code",
   "execution_count": 11,
   "id": "ad44cee1",
   "metadata": {},
   "outputs": [
    {
     "ename": "TypeError",
     "evalue": "dict.values() takes no arguments (1 given)",
     "output_type": "error",
     "traceback": [
      "\u001b[1;31m---------------------------------------------------------------------------\u001b[0m",
      "\u001b[1;31mTypeError\u001b[0m                                 Traceback (most recent call last)",
      "Cell \u001b[1;32mIn[11], line 1\u001b[0m\n\u001b[1;32m----> 1\u001b[0m spam\u001b[38;5;241m.\u001b[39mvalues(\u001b[38;5;124m'\u001b[39m\u001b[38;5;124mcat\u001b[39m\u001b[38;5;124m'\u001b[39m)\n",
      "\u001b[1;31mTypeError\u001b[0m: dict.values() takes no arguments (1 given)"
     ]
    }
   ],
   "source": [
    "spam.values('cat')"
   ]
  },
  {
   "cell_type": "markdown",
   "id": "5b0b08b7",
   "metadata": {},
   "source": [
    "#### 6. What is a shortcut for the following code?\n",
    "if &#39;color&#39; not in spam:\n",
    "\n",
    "spam[&#39;color&#39;] = &#39;black&#39;"
   ]
  },
  {
   "cell_type": "code",
   "execution_count": 12,
   "id": "d3f7d95c",
   "metadata": {},
   "outputs": [
    {
     "data": {
      "text/plain": [
       "'black'"
      ]
     },
     "execution_count": 12,
     "metadata": {},
     "output_type": "execute_result"
    }
   ],
   "source": [
    "spam = {}\n",
    "spam.setdefault('color', 'black')"
   ]
  },
  {
   "cell_type": "code",
   "execution_count": 13,
   "id": "90b878a4",
   "metadata": {},
   "outputs": [
    {
     "data": {
      "text/plain": [
       "'black'"
      ]
     },
     "execution_count": 13,
     "metadata": {},
     "output_type": "execute_result"
    }
   ],
   "source": [
    "spam['color']"
   ]
  },
  {
   "cell_type": "markdown",
   "id": "31254b62",
   "metadata": {},
   "source": [
    "##### Ans\n",
    "\n",
    "Variables that \"contain\" list values actually hold references to list objects, not the lists themselves."
   ]
  },
  {
   "cell_type": "markdown",
   "id": "acf67094",
   "metadata": {},
   "source": [
    "#### 17. How do you &quot;pretty print&quot; dictionary values using which module and function?"
   ]
  },
  {
   "cell_type": "markdown",
   "id": "25154476",
   "metadata": {},
   "source": [
    "##### Ans\n",
    "\n",
    "copy.copy() creates a shallow copy of an object. It duplicates the object itself and references to its nested objects. Changes to nested objects affect both copies.\n",
    "\n",
    "copy.deepcopy() creates a deep copy of an object. It duplicates the object and recursively copies all nested objects. Changes to nested objects in the original do not affect the deep copy, and vice versa."
   ]
  },
  {
   "cell_type": "code",
   "execution_count": null,
   "id": "59a9a7e5",
   "metadata": {},
   "outputs": [],
   "source": []
  }
 ],
 "metadata": {
  "kernelspec": {
   "display_name": "Python 3 (ipykernel)",
   "language": "python",
   "name": "python3"
  },
  "language_info": {
   "codemirror_mode": {
    "name": "ipython",
    "version": 3
   },
   "file_extension": ".py",
   "mimetype": "text/x-python",
   "name": "python",
   "nbconvert_exporter": "python",
   "pygments_lexer": "ipython3",
   "version": "3.11.5"
  }
 },
 "nbformat": 4,
 "nbformat_minor": 5
}
