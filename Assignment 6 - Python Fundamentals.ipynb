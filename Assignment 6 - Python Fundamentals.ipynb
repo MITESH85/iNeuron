{
 "cells": [
  {
   "cell_type": "markdown",
   "id": "dcce8cb9",
   "metadata": {},
   "source": [
    "##### 1. What are escape characters, and how do you use them?"
   ]
  },
  {
   "cell_type": "markdown",
   "id": "4f7cf92b",
   "metadata": {},
   "source": [
    "##### Ans\n",
    "\n",
    "Escape characters in Python are special characters preceded by a backslash (\\) used to represent certain special behaviors within strings"
   ]
  },
  {
   "cell_type": "markdown",
   "id": "4b5711b2",
   "metadata": {},
   "source": [
    "##### 2. What do the escape characters n and t stand for?"
   ]
  },
  {
   "cell_type": "markdown",
   "id": "cc9b37c6",
   "metadata": {},
   "source": [
    "##### Ans\n",
    "\n",
    "\\n represents a newline.\n",
    "\n",
    "\\t represents a tab."
   ]
  },
  {
   "cell_type": "markdown",
   "id": "4eca16ce",
   "metadata": {},
   "source": [
    "#### 3. What is the way to include backslash characters in a string?"
   ]
  },
  {
   "cell_type": "markdown",
   "id": "d3635608",
   "metadata": {},
   "source": [
    "##### Ans"
   ]
  },
  {
   "cell_type": "code",
   "execution_count": 1,
   "id": "04ffefd3",
   "metadata": {},
   "outputs": [
    {
     "name": "stdout",
     "output_type": "stream",
     "text": [
      "Backslash: \\\n"
     ]
    }
   ],
   "source": [
    "s = \"Backslash: \\\\\"\n",
    "print(s)"
   ]
  },
  {
   "cell_type": "markdown",
   "id": "1d81921b",
   "metadata": {},
   "source": [
    "##### 4. The string &quot;Howl&#39;s Moving Castle&quot; is a correct value. Why isn&#39;t the single quote character in the word Howl&#39;s not escaped a problem?"
   ]
  },
  {
   "cell_type": "markdown",
   "id": "f0664ba4",
   "metadata": {},
   "source": [
    "##### Ans\n",
    "\n",
    "Here, the single quote in \"Howl's\" is part of the string literal defined by double quotes, so it doesn't need to be escaped separately."
   ]
  },
  {
   "cell_type": "markdown",
   "id": "94574665",
   "metadata": {},
   "source": [
    "#### 5. How do you write a string of newlines if you don&#39;t want to use the n character?"
   ]
  },
  {
   "cell_type": "markdown",
   "id": "3f4f5588",
   "metadata": {},
   "source": [
    "##### Ans"
   ]
  },
  {
   "cell_type": "code",
   "execution_count": 5,
   "id": "aca183f2",
   "metadata": {},
   "outputs": [
    {
     "name": "stdout",
     "output_type": "stream",
     "text": [
      "First line\n",
      "Second line\n",
      "Third line\n"
     ]
    }
   ],
   "source": [
    "s = '''First line\n",
    "Second line\n",
    "Third line'''\n",
    "print(s)"
   ]
  },
  {
   "cell_type": "markdown",
   "id": "5b0b08b7",
   "metadata": {},
   "source": [
    "#### 6. What are the values of the given expressions?\n",
    "&#39;Hello, world!&#39;[1]\n",
    "\n",
    "&#39;Hello, world!&#39;[0:5]\n",
    "\n",
    "&#39;Hello, world!&#39;[:5]\n",
    "\n",
    "&#39;Hello, world!&#39;[3:]"
   ]
  },
  {
   "cell_type": "markdown",
   "id": "31254b62",
   "metadata": {},
   "source": [
    "##### Ans\n",
    "\n",
    "'Hello, world!'[1] - e\n",
    "\n",
    "'Hello, world!'[0:5] - Hello\n",
    "\n",
    "'Hello, world!'[:5] - Hello\n",
    "\n",
    "'Hello, world!'[3:] - lo, world!"
   ]
  },
  {
   "cell_type": "markdown",
   "id": "acf67094",
   "metadata": {},
   "source": [
    "#### 17. What are the values of the following expressions?\n",
    "&#39;Hello&#39;.upper()\n",
    "\n",
    "&#39;Hello&#39;.upper().isupper()\n",
    "\n",
    "&#39;Hello&#39;.upper().lower()"
   ]
  },
  {
   "cell_type": "markdown",
   "id": "a08b4089",
   "metadata": {},
   "source": [
    "##### Ans\n",
    "\n",
    "&#39;Hello&#39;.upper() - HELLO\n",
    "\n",
    "&#39;Hello&#39;.upper().isupper() - True\n",
    "\n",
    "&#39;Hello&#39;.upper().lower() - hello"
   ]
  },
  {
   "cell_type": "markdown",
   "id": "7d4c4201",
   "metadata": {},
   "source": [
    "#### 18. What are the values of the following expressions?\n",
    "&#39;Remember, remember, the fifth of July.&#39;.split()\n",
    "\n",
    "&#39;-&#39;.join(&#39;There can only one.&#39;.split())"
   ]
  },
  {
   "cell_type": "markdown",
   "id": "10d2c694",
   "metadata": {},
   "source": [
    "##### Ans\n",
    "\n",
    "'Remember, remember, the fifth of July.'.split() - ['Remember,', 'remember,', 'the', 'fifth', 'of', 'July.']\n",
    "\n",
    "'-'.join('There can only one.'.split()) - There-can-only-one."
   ]
  },
  {
   "cell_type": "markdown",
   "id": "3aed67bc",
   "metadata": {},
   "source": [
    "#### 19. What are the methods for right-justifying, left-justifying, and centering a string?"
   ]
  },
  {
   "cell_type": "code",
   "execution_count": 20,
   "id": "db3b0bfa",
   "metadata": {},
   "outputs": [
    {
     "name": "stdout",
     "output_type": "stream",
     "text": [
      "     Hello\n",
      "Hello     \n",
      "  Hello   \n"
     ]
    }
   ],
   "source": [
    "s = \"Hello\"\n",
    "right_justified = s.rjust(10)\n",
    "print(right_justified)\n",
    "left_justified = s.ljust(10)\n",
    "print(left_justified)\n",
    "centered = s.center(10)\n",
    "print(centered)"
   ]
  },
  {
   "cell_type": "markdown",
   "id": "c7a6e59d",
   "metadata": {},
   "source": [
    "#### "
   ]
  }
 ],
 "metadata": {
  "kernelspec": {
   "display_name": "Python 3 (ipykernel)",
   "language": "python",
   "name": "python3"
  },
  "language_info": {
   "codemirror_mode": {
    "name": "ipython",
    "version": 3
   },
   "file_extension": ".py",
   "mimetype": "text/x-python",
   "name": "python",
   "nbconvert_exporter": "python",
   "pygments_lexer": "ipython3",
   "version": "3.11.5"
  }
 },
 "nbformat": 4,
 "nbformat_minor": 5
}
