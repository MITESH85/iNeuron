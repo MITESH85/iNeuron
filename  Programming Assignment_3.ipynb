{
 "cells": [
  {
   "cell_type": "markdown",
   "id": "81e9195e",
   "metadata": {},
   "source": [
    "##### Write a Python Program to Check if a Number is Positive, Negative or Zero?"
   ]
  },
  {
   "cell_type": "code",
   "execution_count": 1,
   "id": "39b4d7f2",
   "metadata": {},
   "outputs": [
    {
     "name": "stdout",
     "output_type": "stream",
     "text": [
      "Enter a number: 3\n",
      "The number is Positive.\n"
     ]
    }
   ],
   "source": [
    "def check_number(n):\n",
    "    if n > 0:\n",
    "        return \"Positive\"\n",
    "    elif n < 0:\n",
    "        return \"Negative\"\n",
    "    else:\n",
    "        return \"Zero\"\n",
    "\n",
    "number = float(input(\"Enter a number: \"))\n",
    "print(f\"The number is {check_number(number)}.\")"
   ]
  },
  {
   "cell_type": "markdown",
   "id": "26b18fe5",
   "metadata": {},
   "source": [
    "##### Write a Python Program to Check if a Number is Odd or Even?"
   ]
  },
  {
   "cell_type": "code",
   "execution_count": 2,
   "id": "e4fa3bc1",
   "metadata": {},
   "outputs": [
    {
     "name": "stdout",
     "output_type": "stream",
     "text": [
      "Enter a number: 4\n",
      "The number is Even.\n"
     ]
    }
   ],
   "source": [
    "def check_odd_even(n):\n",
    "    if n % 2 == 0:\n",
    "        return \"Even\"\n",
    "    else:\n",
    "        return \"Odd\"\n",
    "\n",
    "number = int(input(\"Enter a number: \"))\n",
    "print(f\"The number is {check_odd_even(number)}.\")"
   ]
  },
  {
   "cell_type": "markdown",
   "id": "c7e2e81c",
   "metadata": {},
   "source": [
    "##### Write a Python Program to Check Leap Year?"
   ]
  },
  {
   "cell_type": "code",
   "execution_count": 3,
   "id": "4e817300",
   "metadata": {},
   "outputs": [
    {
     "name": "stdout",
     "output_type": "stream",
     "text": [
      "Enter a year: 2024\n",
      "2024 is a Leap Year.\n"
     ]
    }
   ],
   "source": [
    "def is_leap_year(year):\n",
    "    if (year % 4 == 0 and year % 100 != 0) or (year % 400 == 0):\n",
    "        return True\n",
    "    return False\n",
    "\n",
    "year = int(input(\"Enter a year: \"))\n",
    "if is_leap_year(year):\n",
    "    print(f\"{year} is a Leap Year.\")\n",
    "else:\n",
    "    print(f\"{year} is not a Leap Year.\")"
   ]
  },
  {
   "cell_type": "markdown",
   "id": "6f400d01",
   "metadata": {},
   "source": [
    "##### Write a Python program to solve quadratic equation?"
   ]
  },
  {
   "cell_type": "code",
   "execution_count": 4,
   "id": "cd956f06",
   "metadata": {},
   "outputs": [
    {
     "name": "stdout",
     "output_type": "stream",
     "text": [
      "Enter coefficient a: 2\n",
      "Enter coefficient b: 2\n",
      "Enter coefficient c: 2\n",
      "The solutions are (-0.5-0.8660254037844386j) and (-0.5+0.8660254037844386j)\n"
     ]
    }
   ],
   "source": [
    "import cmath\n",
    "\n",
    "def solve_quadratic(a, b, c):\n",
    "    d = (b**2) - (4*a*c)\n",
    "    \n",
    "    sol1 = (-b - cmath.sqrt(d)) / (2 * a)\n",
    "    sol2 = (-b + cmath.sqrt(d)) / (2 * a)\n",
    "    return sol1, sol2\n",
    "\n",
    "\n",
    "a = float(input(\"Enter coefficient a: \"))\n",
    "b = float(input(\"Enter coefficient b: \"))\n",
    "c = float(input(\"Enter coefficient c: \"))\n",
    "solution1, solution2 = solve_quadratic(a, b, c)\n",
    "print(f\"The solutions are {solution1} and {solution2}\")"
   ]
  },
  {
   "cell_type": "markdown",
   "id": "8d416bfa",
   "metadata": {},
   "source": [
    "##### Write a Python program to swap two variables without temp variable?"
   ]
  },
  {
   "cell_type": "code",
   "execution_count": 5,
   "id": "6412fdd3",
   "metadata": {},
   "outputs": [
    {
     "name": "stdout",
     "output_type": "stream",
     "text": [
      "Enter the first variable: 3\n",
      "Enter the second variable: 4\n",
      "After swapping: x = 4, y = 3\n"
     ]
    }
   ],
   "source": [
    "def swap_variables(x, y):\n",
    "    x, y = y, x\n",
    "    return x, y\n",
    "\n",
    "x = int(input(\"Enter the first variable: \"))\n",
    "y = int(input(\"Enter the second variable: \"))\n",
    "x, y = swap_variables(x, y)\n",
    "print(f\"After swapping: x = {x}, y = {y}\")"
   ]
  },
  {
   "cell_type": "code",
   "execution_count": null,
   "id": "87b317f5",
   "metadata": {},
   "outputs": [],
   "source": []
  }
 ],
 "metadata": {
  "kernelspec": {
   "display_name": "Python 3 (ipykernel)",
   "language": "python",
   "name": "python3"
  },
  "language_info": {
   "codemirror_mode": {
    "name": "ipython",
    "version": 3
   },
   "file_extension": ".py",
   "mimetype": "text/x-python",
   "name": "python",
   "nbconvert_exporter": "python",
   "pygments_lexer": "ipython3",
   "version": "3.11.5"
  }
 },
 "nbformat": 4,
 "nbformat_minor": 5
}
